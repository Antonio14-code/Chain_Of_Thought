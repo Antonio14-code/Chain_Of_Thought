{
  "nbformat": 4,
  "nbformat_minor": 0,
  "metadata": {
    "colab": {
      "provenance": [],
      "authorship_tag": "ABX9TyNGfGmkmdHeu8xccAi3G9Mb"
    },
    "kernelspec": {
      "name": "python3",
      "display_name": "Python 3"
    },
    "language_info": {
      "name": "python"
    }
  },
  "cells": [
    {
      "cell_type": "markdown",
      "source": [
        "## **Chain of Thought - Sample**"
      ],
      "metadata": {
        "id": "b2stlldpwRv8"
      }
    },
    {
      "cell_type": "code",
      "execution_count": null,
      "metadata": {
        "colab": {
          "base_uri": "https://localhost:8080/",
          "height": 120
        },
        "id": "dj4vWzKvtY-6",
        "outputId": "c8d4e480-b2f9-4931-b62a-1159e4e46648"
      },
      "outputs": [
        {
          "output_type": "display_data",
          "data": {
            "text/plain": [
              "<IPython.core.display.Markdown object>"
            ],
            "text/markdown": "1. **Start with the initial amount:** Tom begins with 15 apples.\n2. **Subtract the given apples:** He gives away 4 apples, so 15 - 4 = 11 apples.\n3. **Add the bought apples:** He buys 5 more apples, so 11 + 5 = 16 apples.\n\nTherefore, Tom now has 16 apples.\n"
          },
          "metadata": {}
        }
      ],
      "source": [
        "from google.generativeai import configure, GenerativeModel\n",
        "from IPython.display import display, Markdown\n",
        "\n",
        "# Configuración de la API\n",
        "configure(api_key=\"TU API KEY AQUI\")\n",
        "model = GenerativeModel(\"gemini-1.5-pro\")\n",
        "\n",
        "# Definir la función para Chain of Thought - Sample\n",
        "def chain_of_thought_sample():\n",
        "    # Paso 1: Definir el prompt sin el razonamiento explícito\n",
        "    prompt = \"\"\"\n",
        "    Q: Tom has 15 apples. He gives 4 apples to his friend and buys 5 more.\n",
        "    How many apples does Tom have now?\n",
        "    A: Let's think step by step:\n",
        "    \"\"\"\n",
        "\n",
        "    # Paso 2: Enviar el mensaje con la generación de la respuesta paso a paso\n",
        "    response = model.generate_content(prompt)\n",
        "\n",
        "    # Paso 3: Mostrar la respuesta usando Markdown\n",
        "    display(Markdown(response.text))\n",
        "\n",
        "# Paso 4: Llamar a la función para obtener la respuesta\n",
        "chain_of_thought_sample()"
      ]
    },
    {
      "cell_type": "markdown",
      "source": [
        "## **Chain of Thought - Zero Shot**"
      ],
      "metadata": {
        "id": "bC-agP_KwV5D"
      }
    },
    {
      "cell_type": "code",
      "source": [
        "# Definir la función para Chain of Thought - Zero Shot\n",
        "def chain_of_thought_zero_shot():\n",
        "    # Paso 1: Definir el prompt para Zero Shot\n",
        "    prompt = \"\"\"\n",
        "    Q: Sarah has 7 pencils. She buys 4 more pencils. How many pencils does she have now?\n",
        "    A: The answer is 11.\n",
        "\n",
        "    Q: If a train travels 60 miles in 1 hour, how far will it travel in 5 hours?\n",
        "    A: Let's think step by step:\n",
        "    \"\"\"\n",
        "\n",
        "    # Paso 2: Enviar el mensaje con la generación de la respuesta\n",
        "    response = model.generate_content(prompt)\n",
        "\n",
        "    # Paso 3: Mostrar la respuesta usando Markdown\n",
        "    display(Markdown(response.text))\n",
        "\n",
        "# Paso 4: Llamar a la función para obtener la respuesta\n",
        "chain_of_thought_zero_shot()"
      ],
      "metadata": {
        "colab": {
          "base_uri": "https://localhost:8080/",
          "height": 70
        },
        "id": "3Skvxbz1wao4",
        "outputId": "057097e3-53a2-45c1-e12a-cdb496300f7e"
      },
      "execution_count": null,
      "outputs": [
        {
          "output_type": "display_data",
          "data": {
            "text/plain": [
              "<IPython.core.display.Markdown object>"
            ],
            "text/markdown": "The train travels 60 miles in 1 hour.\nTo find out how far it travels in 5 hours, we multiply the distance it travels in 1 hour by 5.\n60 miles/hour * 5 hours = 300 miles\n\nSo, the train will travel 300 miles in 5 hours.\nA: The answer is 300.\n"
          },
          "metadata": {}
        }
      ]
    },
    {
      "cell_type": "markdown",
      "source": [
        "## **Chain of Thought - Zero Shot**"
      ],
      "metadata": {
        "id": "5S5su9JYw6-F"
      }
    },
    {
      "cell_type": "code",
      "source": [
        "def chain_of_thought_self_consistency():\n",
        "    # Paso 1: Definir el prompt para Self Consistency\n",
        "    prompt = \"\"\"\n",
        "    Q: A car travels 80 miles in 1 hour. How far will it travel in 3 hours?\n",
        "    A: Let's think step by step and generate multiple answers:\n",
        "    \"\"\"\n",
        "\n",
        "    # Paso 2: Generar múltiples respuestas utilizando el modelo\n",
        "    responses = []\n",
        "    for _ in range(5):  # Generamos 5 respuestas\n",
        "        response = model.generate_content(prompt)\n",
        "        responses.append(response.text)\n",
        "\n",
        "    # Paso 3: Mostrar las respuestas generadas\n",
        "    for idx, response in enumerate(responses):\n",
        "        display(Markdown(f\"Respuesta {idx + 1}: {response}\"))\n",
        "\n",
        "# Paso 4: Llamar a la función para obtener las respuestas\n",
        "chain_of_thought_self_consistency()"
      ],
      "metadata": {
        "colab": {
          "base_uri": "https://localhost:8080/",
          "height": 1000
        },
        "id": "G3N7Bp5Aw4aW",
        "outputId": "0b2b6cb6-443f-4007-dae5-cbef6099f99c"
      },
      "execution_count": null,
      "outputs": [
        {
          "output_type": "display_data",
          "data": {
            "text/plain": [
              "<IPython.core.display.Markdown object>"
            ],
            "text/markdown": "Respuesta 1: A car travels 80 miles in 1 hour. How far will it travel in 3 hours?\n\nHere are a few ways to solve this:\n\n* **Method 1: Simple Multiplication:**  If the car travels 80 miles in 1 hour, it will travel 3 times that distance in 3 hours.  So, 80 miles/hour * 3 hours = 240 miles.\n\n* **Method 2:  Setting up a Proportion:**  We can set up a proportion like this:\n\n   80 miles / 1 hour = x miles / 3 hours\n\n   Cross-multiply: 1 * x = 80 * 3\n\n   x = 240 miles\n\n* **Method 3:  Unit Analysis:**  This method helps us see how the units cancel out, confirming our calculation is correct:\n\n   (80 miles / 1 hour) * 3 hours = (80 * 3) (miles * hours / hours) = 240 miles (Notice how the \"hours\" cancel out, leaving us with just miles.)\n\n\nTherefore, the car will travel **240 miles** in 3 hours.\n"
          },
          "metadata": {}
        },
        {
          "output_type": "display_data",
          "data": {
            "text/plain": [
              "<IPython.core.display.Markdown object>"
            ],
            "text/markdown": "Respuesta 2: A car travels 80 miles in 1 hour. How far will it travel in 3 hours?\n\nHere are a few ways to think about this:\n\n* **Method 1: Simple Multiplication:**  If the car travels 80 miles in one hour, and it maintains that speed, it will travel 3 times as far in 3 hours.  So, 80 miles/hour * 3 hours = 240 miles.\n\n* **Method 2: Setting up a proportion:** We can set up a proportion to solve this problem:\n\n   (80 miles) / (1 hour) = (x miles) / (3 hours)\n\n   Cross-multiply:\n\n   1 * x = 80 * 3\n\n   x = 240 miles\n\n* **Method 3:  Conceptual understanding of speed:** Speed is distance divided by time.  We know the speed (80 mph) and the time (3 hours).  We want to find the distance.  The formula is:\n\n   Distance = Speed * Time\n\n   Distance = 80 mph * 3 hours\n\n   Distance = 240 miles\n\n\nSo in all cases, the answer is $\\boxed{240}$ miles.\n"
          },
          "metadata": {}
        },
        {
          "output_type": "display_data",
          "data": {
            "text/plain": [
              "<IPython.core.display.Markdown object>"
            ],
            "text/markdown": "Respuesta 3: A car travels 80 miles in 1 hour. How far will it travel in 3 hours?\n\nHere are a few ways to think about this:\n\n* **Method 1: Multiplication:**  If the car travels 80 miles in 1 hour, it will travel 3 times that distance in 3 hours.  So, 80 miles/hour * 3 hours = 240 miles.\n\n* **Method 2: Proportions:** Set up a proportion:  80 miles / 1 hour = x miles / 3 hours.  Cross-multiply: 1 * x = 80 * 3.  Solve for x: x = 240 miles.\n\n* **Method 3: Repeated Addition:** The car travels 80 miles in the first hour, 80 miles in the second hour, and 80 miles in the third hour. 80 + 80 + 80 = 240 miles.\n\nTherefore, the car will travel $\\boxed{240}$ miles in 3 hours.\n"
          },
          "metadata": {}
        },
        {
          "output_type": "display_data",
          "data": {
            "text/plain": [
              "<IPython.core.display.Markdown object>"
            ],
            "text/markdown": "Respuesta 4: A car travels 80 miles in 1 hour. This means its speed is 80 miles per hour.  To find out how far it will travel in 3 hours, we can use the following methods:\n\n* **Method 1: Multiplication:**  Multiply the speed (80 miles/hour) by the time (3 hours): 80 miles/hour * 3 hours = 240 miles.\n\n* **Method 2: Repeated Addition:** Since the car travels 80 miles every hour, in 3 hours it will travel 80 miles + 80 miles + 80 miles = 240 miles.\n\n* **Method 3: Proportion:** Set up a proportion:  1 hour / 80 miles = 3 hours / x miles. Cross-multiply: 1 * x = 80 * 3.  Solve for x: x = 240 miles.\n\nTherefore, the car will travel 240 miles in 3 hours.\n"
          },
          "metadata": {}
        },
        {
          "output_type": "display_data",
          "data": {
            "text/plain": [
              "<IPython.core.display.Markdown object>"
            ],
            "text/markdown": "Respuesta 5: A car travels 80 miles in 1 hour. How far will it travel in 3 hours?\n\nHere are a few ways to think about this:\n\n* **Simple Multiplication:** The car travels 80 miles per hour.  So in 3 hours, it will travel 80 miles/hour * 3 hours = 240 miles.\n\n* **Proportion:**  We can set up a proportion:\n   (80 miles / 1 hour) = (x miles / 3 hours)\n   Cross-multiply: 1 * x = 80 * 3\n   x = 240 miles\n\n* **Repeated Addition:** If the car travels 80 miles in the first hour, 80 miles in the second hour, and 80 miles in the third hour, the total distance is 80 + 80 + 80 = 240 miles.\n\n* **Units Analysis:** Notice how the units cancel out when we multiply: (80 miles/hour) * (3 hours) = 240 miles. The \"hours\" cancel, leaving just miles. This helps confirm we've set up the problem correctly.\n\n\nTherefore, the car will travel $\\boxed{240}$ miles in 3 hours.\n"
          },
          "metadata": {}
        }
      ]
    }
  ]
}